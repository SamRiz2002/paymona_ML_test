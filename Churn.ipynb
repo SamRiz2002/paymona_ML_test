{
 "cells": [
  {
   "cell_type": "markdown",
   "id": "20526764",
   "metadata": {},
   "source": [
    "# Задача по ML"
   ]
  },
  {
   "cell_type": "markdown",
   "id": "c65d413b",
   "metadata": {},
   "source": [
    " __<font color='red'>Ваша задача:</font>__ сделать `прогноз оттока клиентов`(столбец Churn) для телеком компании.\n",
    " \n",
    "__Ваш ноутбук должен состоять из этапов:__ "
   ]
  },
  {
   "cell_type": "markdown",
   "id": "099b5d64",
   "metadata": {},
   "source": [
    "- Автоматизация процессов (_Codify and automate the workflow_)\n",
    "- Прогноз (_Prediction_)\n",
    "- Чистка (_Data preprocessing_)\n",
    "- Показать пару интересных графиков (_EDA_)\n",
    "- Гиперпараметры (_Hyperparameter tuning_)\n",
    "- Нормализация/Стандартизация (_Normaliztion/Standardization_)\n",
    "- Модель оценок (_Model Evaluation_)\n",
    "- Фичир-инжиниринг (_Feature engineering_)"
   ]
  },
  {
   "cell_type": "markdown",
   "id": "08a1dd9d",
   "metadata": {},
   "source": [
    "<div class=\"alert alert-block alert-warning\">\n",
    "Покажите нам всю красоту Машинного Обучения!\n",
    "</div>"
   ]
  },
  {
   "cell_type": "code",
   "execution_count": 1,
   "id": "a0ce58fd",
   "metadata": {},
   "outputs": [],
   "source": [
    "# ps. не забываем комментировать свои действия"
   ]
  },
  {
   "cell_type": "markdown",
   "id": "a8d18517",
   "metadata": {},
   "source": [
    "-----"
   ]
  },
  {
   "cell_type": "markdown",
   "id": "ac10906b",
   "metadata": {},
   "source": [
    "# <font color='green'>Удачи!</font>"
   ]
  },
  {
   "cell_type": "code",
   "execution_count": null,
   "id": "f0086657",
   "metadata": {},
   "outputs": [],
   "source": [
    "# dataset - Churn_task.csv"
   ]
  },
  {
   "cell_type": "code",
   "execution_count": 227,
   "id": "af0c9571",
   "metadata": {},
   "outputs": [],
   "source": [
    "df = pd.read_csv('Churn_task.csv')"
   ]
  },
  {
   "cell_type": "code",
   "execution_count": 228,
   "id": "7bcf0add",
   "metadata": {},
   "outputs": [
    {
     "data": {
      "text/plain": [
       "customerID             0\n",
       "gender                 7\n",
       "age                 3500\n",
       "SeniorCitizen          0\n",
       "Partner                0\n",
       "Dependents             0\n",
       "tenure                69\n",
       "PhoneService           0\n",
       "MultipleLines          0\n",
       "InternetService        0\n",
       "OnlineSecurity         0\n",
       "OnlineBackup           0\n",
       "DeviceProtection       0\n",
       "TechSupport            0\n",
       "StreamingTV            0\n",
       "StreamingMovies        0\n",
       "Contract               0\n",
       "PaperlessBilling       0\n",
       "PaymentMethod          0\n",
       "MonthlyCharges         0\n",
       "TotalCharges           0\n",
       "Churn                  0\n",
       "dtype: int64"
      ]
     },
     "execution_count": 228,
     "metadata": {},
     "output_type": "execute_result"
    }
   ],
   "source": [
    "df.isnull().sum()"
   ]
  },
  {
   "cell_type": "code",
   "execution_count": 165,
   "id": "959d9e31",
   "metadata": {},
   "outputs": [],
   "source": [
    "import random"
   ]
  },
  {
   "cell_type": "code",
   "execution_count": 169,
   "id": "fcb20845",
   "metadata": {},
   "outputs": [
    {
     "data": {
      "text/plain": [
       "3"
      ]
     },
     "execution_count": 169,
     "metadata": {},
     "output_type": "execute_result"
    }
   ],
   "source": [
    "random.randint(0,5)"
   ]
  },
  {
   "cell_type": "code",
   "execution_count": 170,
   "id": "51e47dce",
   "metadata": {},
   "outputs": [],
   "source": [
    "import numpy as np"
   ]
  },
  {
   "cell_type": "code",
   "execution_count": null,
   "id": "0a57bb5e",
   "metadata": {},
   "outputs": [],
   "source": [
    "def random(x):\n",
    "    return lambda x: random.randint(18,102)\n",
    "\n",
    "df['age'].apply "
   ]
  },
  {
   "cell_type": "code",
   "execution_count": 171,
   "id": "542485f8",
   "metadata": {},
   "outputs": [],
   "source": [
    "df['age'] = np.random.randint(18, 102, df.shape[0])"
   ]
  },
  {
   "cell_type": "code",
   "execution_count": 174,
   "id": "2ec548e9",
   "metadata": {},
   "outputs": [
    {
     "data": {
      "text/plain": [
       "70     105\n",
       "54     102\n",
       "46     101\n",
       "75      99\n",
       "66      98\n",
       "      ... \n",
       "94      71\n",
       "50      70\n",
       "101     70\n",
       "52      69\n",
       "73      63\n",
       "Name: age, Length: 84, dtype: int64"
      ]
     },
     "execution_count": 174,
     "metadata": {},
     "output_type": "execute_result"
    }
   ],
   "source": [
    "df.age.value_counts()"
   ]
  },
  {
   "cell_type": "code",
   "execution_count": 176,
   "id": "044460c2",
   "metadata": {},
   "outputs": [],
   "source": [
    "df.to_csv('test.csv', index=False)"
   ]
  },
  {
   "cell_type": "code",
   "execution_count": 182,
   "id": "40aeec60",
   "metadata": {},
   "outputs": [
    {
     "name": "stderr",
     "output_type": "stream",
     "text": [
      "<ipython-input-182-0cbd0eecaa40>:1: SettingWithCopyWarning: \n",
      "A value is trying to be set on a copy of a slice from a DataFrame.\n",
      "Try using .loc[row_indexer,col_indexer] = value instead\n",
      "\n",
      "See the caveats in the documentation: https://pandas.pydata.org/pandas-docs/stable/user_guide/indexing.html#returning-a-view-versus-a-copy\n",
      "  df.iloc[:3500]['age'] = np.nan\n"
     ]
    }
   ],
   "source": [
    "df.iloc[:3500]['age'] = np.nan"
   ]
  },
  {
   "cell_type": "code",
   "execution_count": 192,
   "id": "23005c1b",
   "metadata": {},
   "outputs": [],
   "source": [
    "df.iloc[:3500, df.columns.get_loc('age')] = np.nan"
   ]
  },
  {
   "cell_type": "code",
   "execution_count": 197,
   "id": "5a7131a9",
   "metadata": {},
   "outputs": [],
   "source": [
    "df = df.sample(frac=1)"
   ]
  },
  {
   "cell_type": "code",
   "execution_count": 199,
   "id": "ba628b04",
   "metadata": {},
   "outputs": [],
   "source": [
    "df.reset_index(inplace=True)"
   ]
  },
  {
   "cell_type": "code",
   "execution_count": 201,
   "id": "13b107b5",
   "metadata": {},
   "outputs": [],
   "source": [
    "df.drop(columns=['index'], inplace=True)"
   ]
  },
  {
   "cell_type": "code",
   "execution_count": 204,
   "id": "b96b0618",
   "metadata": {},
   "outputs": [],
   "source": [
    "df.to_csv('Churn_task.csv')"
   ]
  },
  {
   "cell_type": "code",
   "execution_count": 207,
   "id": "b817eb8c",
   "metadata": {},
   "outputs": [
    {
     "data": {
      "text/plain": [
       "['Unnamed: 0',\n",
       " 'customerID',\n",
       " 'gender',\n",
       " 'SeniorCitizen',\n",
       " 'Partner',\n",
       " 'Dependents',\n",
       " 'tenure',\n",
       " 'PhoneService',\n",
       " 'MultipleLines',\n",
       " 'InternetService',\n",
       " 'OnlineSecurity',\n",
       " 'OnlineBackup',\n",
       " 'DeviceProtection',\n",
       " 'TechSupport',\n",
       " 'StreamingTV',\n",
       " 'StreamingMovies',\n",
       " 'Contract',\n",
       " 'PaperlessBilling',\n",
       " 'PaymentMethod',\n",
       " 'MonthlyCharges',\n",
       " 'TotalCharges',\n",
       " 'Churn',\n",
       " 'age']"
      ]
     },
     "execution_count": 207,
     "metadata": {},
     "output_type": "execute_result"
    }
   ],
   "source": [
    "df.columns.tolist()"
   ]
  },
  {
   "cell_type": "code",
   "execution_count": 210,
   "id": "e27fe90f",
   "metadata": {},
   "outputs": [],
   "source": [
    "df = df[['Unnamed: 0',\n",
    " 'customerID',\n",
    " 'gender',\n",
    " 'age',\n",
    " 'SeniorCitizen',\n",
    " 'Partner',\n",
    " 'Dependents',\n",
    " 'tenure',\n",
    " 'PhoneService',\n",
    " 'MultipleLines',\n",
    " 'InternetService',\n",
    " 'OnlineSecurity',\n",
    " 'OnlineBackup',\n",
    " 'DeviceProtection',\n",
    " 'TechSupport',\n",
    " 'StreamingTV',\n",
    " 'StreamingMovies',\n",
    " 'Contract',\n",
    " 'PaperlessBilling',\n",
    " 'PaymentMethod',\n",
    " 'MonthlyCharges',\n",
    " 'TotalCharges',\n",
    " 'Churn']]"
   ]
  },
  {
   "cell_type": "code",
   "execution_count": 212,
   "id": "11835446",
   "metadata": {},
   "outputs": [
    {
     "data": {
      "text/plain": [
       "46.0     59\n",
       "54.0     58\n",
       "70.0     57\n",
       "20.0     57\n",
       "100.0    55\n",
       "         ..\n",
       "71.0     32\n",
       "73.0     31\n",
       "43.0     29\n",
       "52.0     28\n",
       "96.0     27\n",
       "Name: age, Length: 84, dtype: int64"
      ]
     },
     "execution_count": 212,
     "metadata": {},
     "output_type": "execute_result"
    }
   ],
   "source": [
    "df.age.value_counts()"
   ]
  },
  {
   "cell_type": "code",
   "execution_count": 215,
   "id": "475fae09",
   "metadata": {},
   "outputs": [
    {
     "data": {
      "text/html": [
       "<div>\n",
       "<style scoped>\n",
       "    .dataframe tbody tr th:only-of-type {\n",
       "        vertical-align: middle;\n",
       "    }\n",
       "\n",
       "    .dataframe tbody tr th {\n",
       "        vertical-align: top;\n",
       "    }\n",
       "\n",
       "    .dataframe thead th {\n",
       "        text-align: right;\n",
       "    }\n",
       "</style>\n",
       "<table border=\"1\" class=\"dataframe\">\n",
       "  <thead>\n",
       "    <tr style=\"text-align: right;\">\n",
       "      <th></th>\n",
       "      <th>Unnamed: 0</th>\n",
       "      <th>customerID</th>\n",
       "      <th>gender</th>\n",
       "      <th>age</th>\n",
       "      <th>SeniorCitizen</th>\n",
       "      <th>Partner</th>\n",
       "      <th>Dependents</th>\n",
       "      <th>tenure</th>\n",
       "      <th>PhoneService</th>\n",
       "      <th>MultipleLines</th>\n",
       "      <th>...</th>\n",
       "      <th>DeviceProtection</th>\n",
       "      <th>TechSupport</th>\n",
       "      <th>StreamingTV</th>\n",
       "      <th>StreamingMovies</th>\n",
       "      <th>Contract</th>\n",
       "      <th>PaperlessBilling</th>\n",
       "      <th>PaymentMethod</th>\n",
       "      <th>MonthlyCharges</th>\n",
       "      <th>TotalCharges</th>\n",
       "      <th>Churn</th>\n",
       "    </tr>\n",
       "  </thead>\n",
       "  <tbody>\n",
       "    <tr>\n",
       "      <th>4</th>\n",
       "      <td>4</td>\n",
       "      <td>3932-CMDTD</td>\n",
       "      <td>Female</td>\n",
       "      <td>94.0</td>\n",
       "      <td>0</td>\n",
       "      <td>No</td>\n",
       "      <td>No</td>\n",
       "      <td>4.0</td>\n",
       "      <td>Yes</td>\n",
       "      <td>No</td>\n",
       "      <td>...</td>\n",
       "      <td>Yes</td>\n",
       "      <td>Yes</td>\n",
       "      <td>Yes</td>\n",
       "      <td>Yes</td>\n",
       "      <td>One year</td>\n",
       "      <td>Yes</td>\n",
       "      <td>Electronic check</td>\n",
       "      <td>105.65</td>\n",
       "      <td>443.9</td>\n",
       "      <td>Yes</td>\n",
       "    </tr>\n",
       "    <tr>\n",
       "      <th>6</th>\n",
       "      <td>6</td>\n",
       "      <td>8739-WWKDU</td>\n",
       "      <td>Male</td>\n",
       "      <td>89.0</td>\n",
       "      <td>1</td>\n",
       "      <td>No</td>\n",
       "      <td>No</td>\n",
       "      <td>25.0</td>\n",
       "      <td>Yes</td>\n",
       "      <td>Yes</td>\n",
       "      <td>...</td>\n",
       "      <td>No</td>\n",
       "      <td>No</td>\n",
       "      <td>Yes</td>\n",
       "      <td>No</td>\n",
       "      <td>Month-to-month</td>\n",
       "      <td>Yes</td>\n",
       "      <td>Electronic check</td>\n",
       "      <td>89.50</td>\n",
       "      <td>2196.15</td>\n",
       "      <td>Yes</td>\n",
       "    </tr>\n",
       "    <tr>\n",
       "      <th>10</th>\n",
       "      <td>10</td>\n",
       "      <td>1482-OXZSY</td>\n",
       "      <td>Male</td>\n",
       "      <td>93.0</td>\n",
       "      <td>0</td>\n",
       "      <td>No</td>\n",
       "      <td>No</td>\n",
       "      <td>30.0</td>\n",
       "      <td>Yes</td>\n",
       "      <td>Yes</td>\n",
       "      <td>...</td>\n",
       "      <td>No</td>\n",
       "      <td>No</td>\n",
       "      <td>Yes</td>\n",
       "      <td>Yes</td>\n",
       "      <td>Month-to-month</td>\n",
       "      <td>Yes</td>\n",
       "      <td>Bank transfer (automatic)</td>\n",
       "      <td>100.40</td>\n",
       "      <td>2936.25</td>\n",
       "      <td>No</td>\n",
       "    </tr>\n",
       "    <tr>\n",
       "      <th>15</th>\n",
       "      <td>15</td>\n",
       "      <td>2969-VAPYH</td>\n",
       "      <td>Female</td>\n",
       "      <td>86.0</td>\n",
       "      <td>0</td>\n",
       "      <td>No</td>\n",
       "      <td>No</td>\n",
       "      <td>67.0</td>\n",
       "      <td>Yes</td>\n",
       "      <td>No</td>\n",
       "      <td>...</td>\n",
       "      <td>No</td>\n",
       "      <td>Yes</td>\n",
       "      <td>No</td>\n",
       "      <td>No</td>\n",
       "      <td>One year</td>\n",
       "      <td>No</td>\n",
       "      <td>Credit card (automatic)</td>\n",
       "      <td>60.50</td>\n",
       "      <td>3870</td>\n",
       "      <td>No</td>\n",
       "    </tr>\n",
       "    <tr>\n",
       "      <th>27</th>\n",
       "      <td>27</td>\n",
       "      <td>8972-HJWNV</td>\n",
       "      <td>Female</td>\n",
       "      <td>83.0</td>\n",
       "      <td>1</td>\n",
       "      <td>Yes</td>\n",
       "      <td>No</td>\n",
       "      <td>7.0</td>\n",
       "      <td>Yes</td>\n",
       "      <td>Yes</td>\n",
       "      <td>...</td>\n",
       "      <td>No</td>\n",
       "      <td>No</td>\n",
       "      <td>No</td>\n",
       "      <td>Yes</td>\n",
       "      <td>Month-to-month</td>\n",
       "      <td>Yes</td>\n",
       "      <td>Electronic check</td>\n",
       "      <td>84.55</td>\n",
       "      <td>646.85</td>\n",
       "      <td>Yes</td>\n",
       "    </tr>\n",
       "    <tr>\n",
       "      <th>...</th>\n",
       "      <td>...</td>\n",
       "      <td>...</td>\n",
       "      <td>...</td>\n",
       "      <td>...</td>\n",
       "      <td>...</td>\n",
       "      <td>...</td>\n",
       "      <td>...</td>\n",
       "      <td>...</td>\n",
       "      <td>...</td>\n",
       "      <td>...</td>\n",
       "      <td>...</td>\n",
       "      <td>...</td>\n",
       "      <td>...</td>\n",
       "      <td>...</td>\n",
       "      <td>...</td>\n",
       "      <td>...</td>\n",
       "      <td>...</td>\n",
       "      <td>...</td>\n",
       "      <td>...</td>\n",
       "      <td>...</td>\n",
       "      <td>...</td>\n",
       "    </tr>\n",
       "    <tr>\n",
       "      <th>6974</th>\n",
       "      <td>6974</td>\n",
       "      <td>2676-SSLTO</td>\n",
       "      <td>Male</td>\n",
       "      <td>90.0</td>\n",
       "      <td>0</td>\n",
       "      <td>No</td>\n",
       "      <td>No</td>\n",
       "      <td>49.0</td>\n",
       "      <td>Yes</td>\n",
       "      <td>Yes</td>\n",
       "      <td>...</td>\n",
       "      <td>No</td>\n",
       "      <td>Yes</td>\n",
       "      <td>Yes</td>\n",
       "      <td>No</td>\n",
       "      <td>Two year</td>\n",
       "      <td>Yes</td>\n",
       "      <td>Bank transfer (automatic)</td>\n",
       "      <td>66.15</td>\n",
       "      <td>3199</td>\n",
       "      <td>No</td>\n",
       "    </tr>\n",
       "    <tr>\n",
       "      <th>6986</th>\n",
       "      <td>6986</td>\n",
       "      <td>3675-EQOZA</td>\n",
       "      <td>Male</td>\n",
       "      <td>86.0</td>\n",
       "      <td>0</td>\n",
       "      <td>No</td>\n",
       "      <td>No</td>\n",
       "      <td>5.0</td>\n",
       "      <td>Yes</td>\n",
       "      <td>No</td>\n",
       "      <td>...</td>\n",
       "      <td>No internet service</td>\n",
       "      <td>No internet service</td>\n",
       "      <td>No internet service</td>\n",
       "      <td>No internet service</td>\n",
       "      <td>Month-to-month</td>\n",
       "      <td>No</td>\n",
       "      <td>Bank transfer (automatic)</td>\n",
       "      <td>20.65</td>\n",
       "      <td>93.55</td>\n",
       "      <td>No</td>\n",
       "    </tr>\n",
       "    <tr>\n",
       "      <th>7006</th>\n",
       "      <td>7006</td>\n",
       "      <td>5600-PDUJF</td>\n",
       "      <td>Male</td>\n",
       "      <td>88.0</td>\n",
       "      <td>0</td>\n",
       "      <td>No</td>\n",
       "      <td>No</td>\n",
       "      <td>6.0</td>\n",
       "      <td>Yes</td>\n",
       "      <td>No</td>\n",
       "      <td>...</td>\n",
       "      <td>No</td>\n",
       "      <td>Yes</td>\n",
       "      <td>No</td>\n",
       "      <td>No</td>\n",
       "      <td>Month-to-month</td>\n",
       "      <td>Yes</td>\n",
       "      <td>Credit card (automatic)</td>\n",
       "      <td>49.50</td>\n",
       "      <td>312.7</td>\n",
       "      <td>No</td>\n",
       "    </tr>\n",
       "    <tr>\n",
       "      <th>7015</th>\n",
       "      <td>7015</td>\n",
       "      <td>8350-NYMVI</td>\n",
       "      <td>Female</td>\n",
       "      <td>84.0</td>\n",
       "      <td>0</td>\n",
       "      <td>No</td>\n",
       "      <td>No</td>\n",
       "      <td>39.0</td>\n",
       "      <td>No</td>\n",
       "      <td>No phone service</td>\n",
       "      <td>...</td>\n",
       "      <td>Yes</td>\n",
       "      <td>Yes</td>\n",
       "      <td>No</td>\n",
       "      <td>No</td>\n",
       "      <td>Month-to-month</td>\n",
       "      <td>No</td>\n",
       "      <td>Bank transfer (automatic)</td>\n",
       "      <td>41.10</td>\n",
       "      <td>1597.05</td>\n",
       "      <td>No</td>\n",
       "    </tr>\n",
       "    <tr>\n",
       "      <th>7020</th>\n",
       "      <td>7020</td>\n",
       "      <td>4480-MBMLB</td>\n",
       "      <td>Female</td>\n",
       "      <td>91.0</td>\n",
       "      <td>0</td>\n",
       "      <td>No</td>\n",
       "      <td>No</td>\n",
       "      <td>36.0</td>\n",
       "      <td>Yes</td>\n",
       "      <td>Yes</td>\n",
       "      <td>...</td>\n",
       "      <td>Yes</td>\n",
       "      <td>No</td>\n",
       "      <td>Yes</td>\n",
       "      <td>Yes</td>\n",
       "      <td>One year</td>\n",
       "      <td>Yes</td>\n",
       "      <td>Bank transfer (automatic)</td>\n",
       "      <td>104.80</td>\n",
       "      <td>3886.45</td>\n",
       "      <td>No</td>\n",
       "    </tr>\n",
       "  </tbody>\n",
       "</table>\n",
       "<p>829 rows × 23 columns</p>\n",
       "</div>"
      ],
      "text/plain": [
       "      Unnamed: 0  customerID  gender   age  SeniorCitizen Partner Dependents  \\\n",
       "4              4  3932-CMDTD  Female  94.0              0      No         No   \n",
       "6              6  8739-WWKDU    Male  89.0              1      No         No   \n",
       "10            10  1482-OXZSY    Male  93.0              0      No         No   \n",
       "15            15  2969-VAPYH  Female  86.0              0      No         No   \n",
       "27            27  8972-HJWNV  Female  83.0              1     Yes         No   \n",
       "...          ...         ...     ...   ...            ...     ...        ...   \n",
       "6974        6974  2676-SSLTO    Male  90.0              0      No         No   \n",
       "6986        6986  3675-EQOZA    Male  86.0              0      No         No   \n",
       "7006        7006  5600-PDUJF    Male  88.0              0      No         No   \n",
       "7015        7015  8350-NYMVI  Female  84.0              0      No         No   \n",
       "7020        7020  4480-MBMLB  Female  91.0              0      No         No   \n",
       "\n",
       "      tenure PhoneService     MultipleLines  ...     DeviceProtection  \\\n",
       "4        4.0          Yes                No  ...                  Yes   \n",
       "6       25.0          Yes               Yes  ...                   No   \n",
       "10      30.0          Yes               Yes  ...                   No   \n",
       "15      67.0          Yes                No  ...                   No   \n",
       "27       7.0          Yes               Yes  ...                   No   \n",
       "...      ...          ...               ...  ...                  ...   \n",
       "6974    49.0          Yes               Yes  ...                   No   \n",
       "6986     5.0          Yes                No  ...  No internet service   \n",
       "7006     6.0          Yes                No  ...                   No   \n",
       "7015    39.0           No  No phone service  ...                  Yes   \n",
       "7020    36.0          Yes               Yes  ...                  Yes   \n",
       "\n",
       "              TechSupport          StreamingTV      StreamingMovies  \\\n",
       "4                     Yes                  Yes                  Yes   \n",
       "6                      No                  Yes                   No   \n",
       "10                     No                  Yes                  Yes   \n",
       "15                    Yes                   No                   No   \n",
       "27                     No                   No                  Yes   \n",
       "...                   ...                  ...                  ...   \n",
       "6974                  Yes                  Yes                   No   \n",
       "6986  No internet service  No internet service  No internet service   \n",
       "7006                  Yes                   No                   No   \n",
       "7015                  Yes                   No                   No   \n",
       "7020                   No                  Yes                  Yes   \n",
       "\n",
       "            Contract PaperlessBilling              PaymentMethod  \\\n",
       "4           One year              Yes           Electronic check   \n",
       "6     Month-to-month              Yes           Electronic check   \n",
       "10    Month-to-month              Yes  Bank transfer (automatic)   \n",
       "15          One year               No    Credit card (automatic)   \n",
       "27    Month-to-month              Yes           Electronic check   \n",
       "...              ...              ...                        ...   \n",
       "6974        Two year              Yes  Bank transfer (automatic)   \n",
       "6986  Month-to-month               No  Bank transfer (automatic)   \n",
       "7006  Month-to-month              Yes    Credit card (automatic)   \n",
       "7015  Month-to-month               No  Bank transfer (automatic)   \n",
       "7020        One year              Yes  Bank transfer (automatic)   \n",
       "\n",
       "     MonthlyCharges TotalCharges Churn  \n",
       "4            105.65        443.9   Yes  \n",
       "6             89.50      2196.15   Yes  \n",
       "10           100.40      2936.25    No  \n",
       "15            60.50         3870    No  \n",
       "27            84.55       646.85   Yes  \n",
       "...             ...          ...   ...  \n",
       "6974          66.15         3199    No  \n",
       "6986          20.65        93.55    No  \n",
       "7006          49.50        312.7    No  \n",
       "7015          41.10      1597.05    No  \n",
       "7020         104.80      3886.45    No  \n",
       "\n",
       "[829 rows x 23 columns]"
      ]
     },
     "execution_count": 215,
     "metadata": {},
     "output_type": "execute_result"
    }
   ],
   "source": [
    "df['age']=np.random.randint(df.loc[df.age.isin([80,81,82,83,84,85,86,87,88,89,90,91,92,93,94,95,96,97,98,99])])"
   ]
  },
  {
   "cell_type": "code",
   "execution_count": 222,
   "id": "c0165c7e",
   "metadata": {},
   "outputs": [
    {
     "name": "stderr",
     "output_type": "stream",
     "text": [
      "<ipython-input-222-a0b5aa997b95>:1: SettingWithCopyWarning: \n",
      "A value is trying to be set on a copy of a slice from a DataFrame\n",
      "\n",
      "See the caveats in the documentation: https://pandas.pydata.org/pandas-docs/stable/user_guide/indexing.html#returning-a-view-versus-a-copy\n",
      "  df.drop(columns=['Unnamed: 0'], inplace=True)\n"
     ]
    }
   ],
   "source": [
    "df.drop(columns=['Unnamed: 0'], inplace=True)"
   ]
  },
  {
   "cell_type": "code",
   "execution_count": 226,
   "id": "24fb75ec",
   "metadata": {},
   "outputs": [],
   "source": [
    "df.to_csv('Churn_task.csv', index=False)"
   ]
  },
  {
   "cell_type": "code",
   "execution_count": null,
   "id": "bf95ade3",
   "metadata": {},
   "outputs": [],
   "source": []
  }
 ],
 "metadata": {
  "kernelspec": {
   "display_name": "Python 3",
   "language": "python",
   "name": "python3"
  },
  "language_info": {
   "codemirror_mode": {
    "name": "ipython",
    "version": 3
   },
   "file_extension": ".py",
   "mimetype": "text/x-python",
   "name": "python",
   "nbconvert_exporter": "python",
   "pygments_lexer": "ipython3",
   "version": "3.9.5"
  }
 },
 "nbformat": 4,
 "nbformat_minor": 5
}
