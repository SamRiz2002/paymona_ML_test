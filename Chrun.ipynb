{
 "cells": [
  {
   "cell_type": "markdown",
   "id": "de2b0c0f",
   "metadata": {},
   "source": [
    "__Мы от Вас ожидаем:__\n",
    "\n",
    "1. Аналитический склад ума\n",
    "2. Командная работа\n",
    "3. Умение чистить данные на pandas\n",
    "4. Умение строить графики на Matplotlib & Seaborn\n",
    "5. Базовые знания Машинного Обучения\n",
    "    1. Дата-инжениринги Фичер-инжениринг (Data & feature engineering)\n",
    "    2. Умение работать с категориальными и числовыми данными\n",
    "    3. Нормализация и Стандартизация (Normalization & Standardization)\n",
    "    4. Алгоритмы Машинного Обучения\n",
    "    5. Гиперпараметры (Hyperparameter tuning)\n",
    "    6. Модели оценок (Model Evaluation)\n",
    "    \n",
    "__Будет плюсом:__\n",
    "1. Правильно ставить комменты\n",
    "2. Уметь работать со `Spark` или `Dask`\n",
    "4. Умение строить графики на Plotly\n",
    "5. Знания английского языка"
   ]
  },
  {
   "cell_type": "markdown",
   "id": "71f6ff47",
   "metadata": {},
   "source": [
    "--------"
   ]
  },
  {
   "cell_type": "markdown",
   "id": "20526764",
   "metadata": {},
   "source": [
    "# Задача по ML"
   ]
  },
  {
   "cell_type": "markdown",
   "id": "c65d413b",
   "metadata": {},
   "source": [
    " __<font color='red'>Ваша задача:</font>__ сделать `прогноз оттока клиентов`(столбец Churn) для телеком компании.\n",
    " \n",
    "__Ваш ноутбук должен состоять из этапов:__ "
   ]
  },
  {
   "cell_type": "markdown",
   "id": "099b5d64",
   "metadata": {},
   "source": [
    "- Автоматизация процессов (_Codify and automate the workflow_)\n",
    "- Прогноз (_Prediction_)\n",
    "- Чистка (_Data preprocessing_)\n",
    "- Показать пару интересных графиков (_EDA_)\n",
    "- Гиперпараметры (_Hyperparameter tuning_)\n",
    "- Нормализация/Стандартизация (_Normaliztion/Standardization_)\n",
    "- Модель оценок (_Model Evaluation_)\n",
    "- Фичир-инжиниринг (_Feature engineering_)"
   ]
  },
  {
   "cell_type": "markdown",
   "id": "08a1dd9d",
   "metadata": {},
   "source": [
    "<div class=\"alert alert-block alert-warning\">\n",
    "Покажите нам всю красоту Машинного Обучения!\n",
    "</div>"
   ]
  },
  {
   "cell_type": "code",
   "execution_count": 1,
   "id": "a0ce58fd",
   "metadata": {},
   "outputs": [],
   "source": [
    "# ps. не забываем комментировать свои действия"
   ]
  },
  {
   "cell_type": "markdown",
   "id": "a8d18517",
   "metadata": {},
   "source": [
    "-----"
   ]
  },
  {
   "cell_type": "markdown",
   "id": "ac10906b",
   "metadata": {},
   "source": [
    "# <font color='green'>Удачи!</font>"
   ]
  },
  {
   "cell_type": "code",
   "execution_count": null,
   "id": "f0086657",
   "metadata": {},
   "outputs": [],
   "source": [
    "# dataset - Churn_task.csv"
   ]
  }
 ],
 "metadata": {
  "kernelspec": {
   "display_name": "Python 3",
   "language": "python",
   "name": "python3"
  },
  "language_info": {
   "codemirror_mode": {
    "name": "ipython",
    "version": 3
   },
   "file_extension": ".py",
   "mimetype": "text/x-python",
   "name": "python",
   "nbconvert_exporter": "python",
   "pygments_lexer": "ipython3",
   "version": "3.9.5"
  }
 },
 "nbformat": 4,
 "nbformat_minor": 5
}
